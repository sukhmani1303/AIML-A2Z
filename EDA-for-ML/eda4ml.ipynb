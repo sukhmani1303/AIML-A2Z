{
  "nbformat": 4,
  "nbformat_minor": 0,
  "metadata": {
    "colab": {
      "provenance": [],
      "authorship_tag": "ABX9TyNyZDZRBcN8qBFPDZQlg0wM",
      "include_colab_link": true
    },
    "kernelspec": {
      "name": "python3",
      "display_name": "Python 3"
    },
    "language_info": {
      "name": "python"
    }
  },
  "cells": [
    {
      "cell_type": "markdown",
      "metadata": {
        "id": "view-in-github",
        "colab_type": "text"
      },
      "source": [
        "<a href=\"https://colab.research.google.com/github/sukhmani1303/AIML-A2Z/blob/main/EDA-for-ML/eda4ml.ipynb\" target=\"_parent\"><img src=\"https://colab.research.google.com/assets/colab-badge.svg\" alt=\"Open In Colab\"/></a>"
      ]
    },
    {
      "cell_type": "markdown",
      "source": [
        "\n",
        "# **Introduction**\n",
        "---\n",
        "\n",
        "![](https://drive.google.com/uc?export=view&id=1FXKJxPDDHRL7aKUuZ-htp6IogPloVTst)\n",
        "\n",
        "---\n",
        "<br>\n",
        "\n",
        "## **What is AI ?** \n",
        "\n",
        "* ##### A program that can sense, adapt, read & act on its own. In short, anything that has an intelligence of its own.\n",
        "---\n",
        "<br>\n",
        "\n",
        "## **What is ML ?** \n",
        "* ##### Its a subset of AI which focusses on various Algorithms which help in machine's learning as more data gets fed/exposed to it.\n",
        "---\n",
        "<br>\n",
        "\n",
        "## **What is Deep Learning ?** \n",
        "* ##### Its a subset of ML where \"*Multi-Layered Neural Networks*\" are used to learn from huge amounts of data.\n",
        "---\n",
        "<br>\n",
        "\n",
        "## **Features Vs. Target** \n",
        "* ##### Features are the columns from where the data is studied for prediction.\n",
        "* ##### Target, also known as \"*label*\" is/are the column(s) to be predicted.\n",
        "---\n",
        "<br>\n",
        "\n",
        "## **Supervised Vs. Unsupervised Learning** \n",
        "* ##### Supervised Learning technique make use of \"*labelled*\" data for mainly **predictions using regressions or classification** algorithms. Example: Fraud Detection.\n",
        "* ##### Unsupervised Learning teachnique makes use \"*unlabelled*\" data for mainly **finding patterns or understanding the structure of data**. Example: Customer Segmentation.\n",
        "\n",
        "\n",
        "\n",
        "\n",
        "\n"
      ],
      "metadata": {
        "id": "m2xYkC4yenn1"
      }
    },
    {
      "cell_type": "markdown",
      "source": [
        "# **Retrieving Information**\n",
        "\n"
      ],
      "metadata": {
        "id": "dsqYFoDdmRPC"
      }
    },
    {
      "cell_type": "markdown",
      "source": [
        "### **From a CSV File**"
      ],
      "metadata": {
        "id": "XTzd4A1Smo4F"
      }
    },
    {
      "cell_type": "code",
      "source": [
        "# using pandas library of python we can read csv data into a Dataframe\n",
        "import pandas as pd\n",
        "\n",
        "filepath = \"path/of/the/file.csv\"\n",
        "\n",
        "# importing the data using read_csv() function\n",
        "\n",
        "df_main = pd.read_csv(filepath)\n",
        "\n",
        "# We can pass different attributes into read_csv() function :\n",
        "\n",
        "sep = \"\\t\" # This sets the separation by a tab rather than \",\" (for .tsv files)\n",
        "header = None # This excludes the first row from our data from being exported\n",
        "names = ['column1', 'column2', 'column3'] # This specifies the only columns to be used\n",
        "na_values = [\"NA\",\"NAN\", 99] # to set custom Null values to specified values\n",
        "\n",
        "# to save the dataframe as csv\n",
        "df_main.to_csv(\"new/path/of/file.csv\" ,index = False)"
      ],
      "metadata": {
        "id": "f4bPdxF2mzHz"
      },
      "execution_count": null,
      "outputs": []
    },
    {
      "cell_type": "markdown",
      "source": [
        "### **From a JSON File**"
      ],
      "metadata": {
        "id": "wvY5u6ZnpVsm"
      }
    },
    {
      "cell_type": "code",
      "source": [
        "import pandas as pd\n",
        "\n",
        "filepath = \"path/of/the/file.json\"\n",
        "\n",
        "df_main = pd.read_json(filepath)\n",
        "\n",
        "df_main.to_json(\"new/path/of/file.json\")"
      ],
      "metadata": {
        "id": "dZUO-A2GpbpD"
      },
      "execution_count": null,
      "outputs": []
    },
    {
      "cell_type": "markdown",
      "source": [
        "# **Data Cleaning**"
      ],
      "metadata": {
        "id": "K_PWksmLqqeA"
      }
    },
    {
      "cell_type": "markdown",
      "source": [],
      "metadata": {
        "id": "1HiO2P3Cqwmj"
      }
    }
  ]
}