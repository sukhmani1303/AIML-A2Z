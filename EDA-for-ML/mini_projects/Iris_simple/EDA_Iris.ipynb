{
  "nbformat": 4,
  "nbformat_minor": 0,
  "metadata": {
    "colab": {
      "provenance": [],
      "authorship_tag": "ABX9TyM8Fwbay+18+3Wo94PTxKwx",
      "include_colab_link": true
    },
    "kernelspec": {
      "name": "python3",
      "display_name": "Python 3"
    },
    "language_info": {
      "name": "python"
    }
  },
  "cells": [
    {
      "cell_type": "markdown",
      "metadata": {
        "id": "view-in-github",
        "colab_type": "text"
      },
      "source": [
        "<a href=\"https://colab.research.google.com/github/sukhmani1303/AIML-A2Z/blob/main/EDA-for-ML/mini_projects/Iris_simple/EDA_Iris.ipynb\" target=\"_parent\"><img src=\"https://colab.research.google.com/assets/colab-badge.svg\" alt=\"Open In Colab\"/></a>"
      ]
    },
    {
      "cell_type": "markdown",
      "source": [
        "## **Loading the Dataset**\n",
        "\n",
        "Iris dataset can be loaded from sklearn datasets"
      ],
      "metadata": {
        "id": "YJRRGGQ8kvGx"
      }
    },
    {
      "cell_type": "code",
      "source": [
        "from sklearn.datasets import load_iris\n",
        "iris_dataset = load_iris()"
      ],
      "metadata": {
        "id": "qjMjIV6Hmbm4"
      },
      "execution_count": 1,
      "outputs": []
    },
    {
      "cell_type": "markdown",
      "source": [
        "The iris_dataset is a python dictionary called **Bunch Object** returned by load_iris function."
      ],
      "metadata": {
        "id": "A9w-SuCrmpMH"
      }
    },
    {
      "cell_type": "code",
      "source": [
        "# viewing the total keys of dataset\n",
        "iris_dataset.keys()"
      ],
      "metadata": {
        "colab": {
          "base_uri": "https://localhost:8080/"
        },
        "id": "sPHo79mVmif7",
        "outputId": "e4e302d0-512d-41ab-b8c1-a6c36145c0b4"
      },
      "execution_count": 2,
      "outputs": [
        {
          "output_type": "execute_result",
          "data": {
            "text/plain": [
              "dict_keys(['data', 'target', 'frame', 'target_names', 'DESCR', 'feature_names', 'filename', 'data_module'])"
            ]
          },
          "metadata": {},
          "execution_count": 2
        }
      ]
    },
    {
      "cell_type": "markdown",
      "source": [
        "We will use **target_name** column as label for prediction"
      ],
      "metadata": {
        "id": "XmHR7wZ_nMxj"
      }
    },
    {
      "cell_type": "code",
      "source": [
        "# view the values in target_names\n",
        "iris_dataset['target_names']"
      ],
      "metadata": {
        "colab": {
          "base_uri": "https://localhost:8080/"
        },
        "id": "aTZDpTUZnK9m",
        "outputId": "946078a9-1c39-4d70-b75e-820ae4f10679"
      },
      "execution_count": 3,
      "outputs": [
        {
          "output_type": "execute_result",
          "data": {
            "text/plain": [
              "array(['setosa', 'versicolor', 'virginica'], dtype='<U10')"
            ]
          },
          "metadata": {},
          "execution_count": 3
        }
      ]
    },
    {
      "cell_type": "markdown",
      "source": [
        "This shows that we have only 3 values among which the prediction will take place."
      ],
      "metadata": {
        "id": "wU-5312VnuEL"
      }
    },
    {
      "cell_type": "code",
      "source": [
        "# target's encoding :\n",
        "iris_dataset['target']"
      ],
      "metadata": {
        "colab": {
          "base_uri": "https://localhost:8080/"
        },
        "id": "RsbMMX3Inipu",
        "outputId": "2196f172-b90f-4e60-cf5c-53c064eced55"
      },
      "execution_count": 4,
      "outputs": [
        {
          "output_type": "execute_result",
          "data": {
            "text/plain": [
              "array([0, 0, 0, 0, 0, 0, 0, 0, 0, 0, 0, 0, 0, 0, 0, 0, 0, 0, 0, 0, 0, 0,\n",
              "       0, 0, 0, 0, 0, 0, 0, 0, 0, 0, 0, 0, 0, 0, 0, 0, 0, 0, 0, 0, 0, 0,\n",
              "       0, 0, 0, 0, 0, 0, 1, 1, 1, 1, 1, 1, 1, 1, 1, 1, 1, 1, 1, 1, 1, 1,\n",
              "       1, 1, 1, 1, 1, 1, 1, 1, 1, 1, 1, 1, 1, 1, 1, 1, 1, 1, 1, 1, 1, 1,\n",
              "       1, 1, 1, 1, 1, 1, 1, 1, 1, 1, 1, 1, 2, 2, 2, 2, 2, 2, 2, 2, 2, 2,\n",
              "       2, 2, 2, 2, 2, 2, 2, 2, 2, 2, 2, 2, 2, 2, 2, 2, 2, 2, 2, 2, 2, 2,\n",
              "       2, 2, 2, 2, 2, 2, 2, 2, 2, 2, 2, 2, 2, 2, 2, 2, 2, 2])"
            ]
          },
          "metadata": {},
          "execution_count": 4
        }
      ]
    },
    {
      "cell_type": "markdown",
      "source": [
        "Thus, the encoding is done in 3 levels (nominal encoding) : 0, 1, 2. Here, 0 means setosa, 1 means versicolor, and 2 means virginica"
      ],
      "metadata": {
        "id": "CjO5ticmn8YR"
      }
    }
  ]
}