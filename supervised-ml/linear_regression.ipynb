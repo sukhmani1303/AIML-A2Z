{
  "nbformat": 4,
  "nbformat_minor": 0,
  "metadata": {
    "colab": {
      "provenance": [],
      "authorship_tag": "ABX9TyONvGlf5RVZiWdBHGd2sD/q",
      "include_colab_link": true
    },
    "kernelspec": {
      "name": "python3",
      "display_name": "Python 3"
    },
    "language_info": {
      "name": "python"
    }
  },
  "cells": [
    {
      "cell_type": "markdown",
      "metadata": {
        "id": "view-in-github",
        "colab_type": "text"
      },
      "source": [
        "<a href=\"https://colab.research.google.com/github/sukhmani1303/AIML-A2Z/blob/main/supervised-ml/linear_regression.ipynb\" target=\"_parent\"><img src=\"https://colab.research.google.com/assets/colab-badge.svg\" alt=\"Open In Colab\"/></a>"
      ]
    },
    {
      "cell_type": "markdown",
      "source": [
        "## Here, we focus on continuous values like age, sales, or any number-like quantity.\n",
        "**We find the best-fit line which minimises all distances from any other point**\n",
        "<br>\n",
        "<br>\n",
        "\n",
        "As we talk about lines... in linear-regression,\n",
        "\n",
        "we use y=mx+c\n",
        "where y is the label we want to predict.\n",
        "m will be slope of the best-fit line\n",
        "x is a parameter & c is a coefficient.\n"
      ],
      "metadata": {
        "id": "ZyxXwV-I1sKV"
      }
    },
    {
      "cell_type": "markdown",
      "source": [
        "\n",
        "\n",
        "---\n",
        "\n",
        "\n",
        "\n",
        "We aim to minimise the distance or **error** which is ***(predicted y)- (actual y)***\n",
        "\n",
        "\n",
        "~ (mx + c) - (y) -> will also give negative values\n",
        "\n",
        "we are intrested in abs values so we use **L1 norm**.\n",
        "\n",
        "<br>\n",
        "\n",
        "**Or**\n",
        "\n",
        "<br>\n",
        "\n",
        " use euclidean distance which gives us the length (of each line) between actual outcome & the our prediction; which is the *L2 norm*\n",
        " \n",
        "<br>\n",
        "\n",
        "**Or**\n",
        "\n",
        "<br>\n",
        "\n",
        "We can also use the mean squared error cost function; squared error for every value div by total values\n",
        "\n",
        "<br>\n",
        "\n",
        "**Best Line - minimise the MSE (mean quared error) & minimise the distance.**"
      ],
      "metadata": {
        "id": "ijrcmy2P28u9"
      }
    },
    {
      "cell_type": "markdown",
      "source": [
        "\n",
        "\n",
        "---\n",
        "\n",
        "<br>\n",
        "\n",
        "**R2 metric components**\n",
        "\n",
        "*   *Sum of squared error (sse)*\n",
        "\n",
        "  <sub>i=1</sub>∑<sup>ᵐ</sup>( yᵦ ( x ⁱ )  -  y ⁱ<sub>obs</sub> )<sup>2<sup>\n",
        "\n",
        "  Measures the dist between truth & our predictions\n",
        "  Its the unexplained variation from our model\n",
        "\n",
        "  <br>\n",
        "\n",
        "\n",
        "*   *Total sum of squares (tss)*\n",
        "\n",
        "  <sub>i=1</sub>∑<sup>ᵐ</sup>( y̅<sub>obs</sub> - y ⁱ<sub>obs</sub> )<sup>2<sup>\n",
        "\n",
        "  measures the dist between the truth & the avg values of truth\n",
        "  Its the total variation\n",
        "<br>\n",
        "\n",
        "\\begin{align}\\text{R2 metric = } 1 - \\frac{ sse }{ tee }\\end{align}\n",
        "<br>\n",
        "\n",
        "  closer it is to 1, better our model justified its variance\n",
        "\n",
        "\n",
        "---\n",
        "\n",
        "\n",
        "\n",
        "\n"
      ],
      "metadata": {
        "id": "eGoHU9586EbZ"
      }
    },
    {
      "cell_type": "code",
      "source": [
        "# importing the model\n",
        "from sklearn.linear_model import LinearRegression"
      ],
      "metadata": {
        "id": "a5D6qGBiBZbQ"
      },
      "execution_count": 1,
      "outputs": []
    },
    {
      "cell_type": "code",
      "source": [
        "# creating an instance\n",
        "lr = LinearRegression()"
      ],
      "metadata": {
        "id": "b1cr-yvZBzJd"
      },
      "execution_count": 2,
      "outputs": []
    },
    {
      "cell_type": "code",
      "source": [
        "# training the model\n",
        "lr = lr.fit(x_train, y_train)\n",
        "y_predictions = lr.predict(y_test)"
      ],
      "metadata": {
        "id": "22PMSC6NCAav"
      },
      "execution_count": null,
      "outputs": []
    },
    {
      "cell_type": "markdown",
      "source": [
        "# **Applying Linear Regression on Boston Housing**\n",
        "\n",
        "\n",
        "---\n"
      ],
      "metadata": {
        "id": "rVI897YDFWET"
      }
    },
    {
      "cell_type": "markdown",
      "source": [
        "## **Checkout the Data**\n",
        "\n"
      ],
      "metadata": {
        "id": "Rzslh1tYFtOK"
      }
    },
    {
      "cell_type": "code",
      "source": [
        "# imp imports \n",
        "import numpy as np\n",
        "import pandas as pd\n",
        "import pickle as pk\n",
        "import matplotlib.pyplot as plt\n",
        "%matplotlib inline\n",
        "# Surpress warnings:\n",
        "def warn(*args, **kwargs):\n",
        "    pass\n",
        "import warnings\n",
        "warnings.warn = warn"
      ],
      "metadata": {
        "id": "APAbQUtcGMDV"
      },
      "execution_count": 74,
      "outputs": []
    },
    {
      "cell_type": "code",
      "source": [
        "# loading the boston data to dataframe\n",
        "data_url = \"/content/sample_data/BostonHousing.csv\"\n",
        "boston_data = pd.read_csv(data_url)"
      ],
      "metadata": {
        "id": "uHNC7kxPGZ9q"
      },
      "execution_count": 75,
      "outputs": []
    },
    {
      "cell_type": "code",
      "source": [
        "boston_data.head()"
      ],
      "metadata": {
        "colab": {
          "base_uri": "https://localhost:8080/",
          "height": 206
        },
        "id": "uoPElgCdHDmd",
        "outputId": "535a553a-7408-46dd-938d-ace4c1b72b96"
      },
      "execution_count": 76,
      "outputs": [
        {
          "output_type": "execute_result",
          "data": {
            "text/plain": [
              "      CRIM    ZN  INDUS  CHAS    NOX     RM   AGE     DIS  RAD  TAX  PTRATIO  \\\n",
              "0  0.00632  18.0   2.31     0  0.538  6.575  65.2  4.0900    1  296     15.3   \n",
              "1  0.02731   0.0   7.07     0  0.469  6.421  78.9  4.9671    2  242     17.8   \n",
              "2  0.02729   0.0   7.07     0  0.469  7.185  61.1  4.9671    2  242     17.8   \n",
              "3  0.03237   0.0   2.18     0  0.458  6.998  45.8  6.0622    3  222     18.7   \n",
              "4  0.06905   0.0   2.18     0  0.458  7.147  54.2  6.0622    3  222     18.7   \n",
              "\n",
              "        B  LSTAT  MEDV  \n",
              "0  396.90   4.98  24.0  \n",
              "1  396.90   9.14  21.6  \n",
              "2  392.83   4.03  34.7  \n",
              "3  394.63   2.94  33.4  \n",
              "4  396.90   5.33  36.2  "
            ],
            "text/html": [
              "\n",
              "  <div id=\"df-0db1a5e2-8af8-4cab-813f-460458e91472\">\n",
              "    <div class=\"colab-df-container\">\n",
              "      <div>\n",
              "<style scoped>\n",
              "    .dataframe tbody tr th:only-of-type {\n",
              "        vertical-align: middle;\n",
              "    }\n",
              "\n",
              "    .dataframe tbody tr th {\n",
              "        vertical-align: top;\n",
              "    }\n",
              "\n",
              "    .dataframe thead th {\n",
              "        text-align: right;\n",
              "    }\n",
              "</style>\n",
              "<table border=\"1\" class=\"dataframe\">\n",
              "  <thead>\n",
              "    <tr style=\"text-align: right;\">\n",
              "      <th></th>\n",
              "      <th>CRIM</th>\n",
              "      <th>ZN</th>\n",
              "      <th>INDUS</th>\n",
              "      <th>CHAS</th>\n",
              "      <th>NOX</th>\n",
              "      <th>RM</th>\n",
              "      <th>AGE</th>\n",
              "      <th>DIS</th>\n",
              "      <th>RAD</th>\n",
              "      <th>TAX</th>\n",
              "      <th>PTRATIO</th>\n",
              "      <th>B</th>\n",
              "      <th>LSTAT</th>\n",
              "      <th>MEDV</th>\n",
              "    </tr>\n",
              "  </thead>\n",
              "  <tbody>\n",
              "    <tr>\n",
              "      <th>0</th>\n",
              "      <td>0.00632</td>\n",
              "      <td>18.0</td>\n",
              "      <td>2.31</td>\n",
              "      <td>0</td>\n",
              "      <td>0.538</td>\n",
              "      <td>6.575</td>\n",
              "      <td>65.2</td>\n",
              "      <td>4.0900</td>\n",
              "      <td>1</td>\n",
              "      <td>296</td>\n",
              "      <td>15.3</td>\n",
              "      <td>396.90</td>\n",
              "      <td>4.98</td>\n",
              "      <td>24.0</td>\n",
              "    </tr>\n",
              "    <tr>\n",
              "      <th>1</th>\n",
              "      <td>0.02731</td>\n",
              "      <td>0.0</td>\n",
              "      <td>7.07</td>\n",
              "      <td>0</td>\n",
              "      <td>0.469</td>\n",
              "      <td>6.421</td>\n",
              "      <td>78.9</td>\n",
              "      <td>4.9671</td>\n",
              "      <td>2</td>\n",
              "      <td>242</td>\n",
              "      <td>17.8</td>\n",
              "      <td>396.90</td>\n",
              "      <td>9.14</td>\n",
              "      <td>21.6</td>\n",
              "    </tr>\n",
              "    <tr>\n",
              "      <th>2</th>\n",
              "      <td>0.02729</td>\n",
              "      <td>0.0</td>\n",
              "      <td>7.07</td>\n",
              "      <td>0</td>\n",
              "      <td>0.469</td>\n",
              "      <td>7.185</td>\n",
              "      <td>61.1</td>\n",
              "      <td>4.9671</td>\n",
              "      <td>2</td>\n",
              "      <td>242</td>\n",
              "      <td>17.8</td>\n",
              "      <td>392.83</td>\n",
              "      <td>4.03</td>\n",
              "      <td>34.7</td>\n",
              "    </tr>\n",
              "    <tr>\n",
              "      <th>3</th>\n",
              "      <td>0.03237</td>\n",
              "      <td>0.0</td>\n",
              "      <td>2.18</td>\n",
              "      <td>0</td>\n",
              "      <td>0.458</td>\n",
              "      <td>6.998</td>\n",
              "      <td>45.8</td>\n",
              "      <td>6.0622</td>\n",
              "      <td>3</td>\n",
              "      <td>222</td>\n",
              "      <td>18.7</td>\n",
              "      <td>394.63</td>\n",
              "      <td>2.94</td>\n",
              "      <td>33.4</td>\n",
              "    </tr>\n",
              "    <tr>\n",
              "      <th>4</th>\n",
              "      <td>0.06905</td>\n",
              "      <td>0.0</td>\n",
              "      <td>2.18</td>\n",
              "      <td>0</td>\n",
              "      <td>0.458</td>\n",
              "      <td>7.147</td>\n",
              "      <td>54.2</td>\n",
              "      <td>6.0622</td>\n",
              "      <td>3</td>\n",
              "      <td>222</td>\n",
              "      <td>18.7</td>\n",
              "      <td>396.90</td>\n",
              "      <td>5.33</td>\n",
              "      <td>36.2</td>\n",
              "    </tr>\n",
              "  </tbody>\n",
              "</table>\n",
              "</div>\n",
              "      <button class=\"colab-df-convert\" onclick=\"convertToInteractive('df-0db1a5e2-8af8-4cab-813f-460458e91472')\"\n",
              "              title=\"Convert this dataframe to an interactive table.\"\n",
              "              style=\"display:none;\">\n",
              "        \n",
              "  <svg xmlns=\"http://www.w3.org/2000/svg\" height=\"24px\"viewBox=\"0 0 24 24\"\n",
              "       width=\"24px\">\n",
              "    <path d=\"M0 0h24v24H0V0z\" fill=\"none\"/>\n",
              "    <path d=\"M18.56 5.44l.94 2.06.94-2.06 2.06-.94-2.06-.94-.94-2.06-.94 2.06-2.06.94zm-11 1L8.5 8.5l.94-2.06 2.06-.94-2.06-.94L8.5 2.5l-.94 2.06-2.06.94zm10 10l.94 2.06.94-2.06 2.06-.94-2.06-.94-.94-2.06-.94 2.06-2.06.94z\"/><path d=\"M17.41 7.96l-1.37-1.37c-.4-.4-.92-.59-1.43-.59-.52 0-1.04.2-1.43.59L10.3 9.45l-7.72 7.72c-.78.78-.78 2.05 0 2.83L4 21.41c.39.39.9.59 1.41.59.51 0 1.02-.2 1.41-.59l7.78-7.78 2.81-2.81c.8-.78.8-2.07 0-2.86zM5.41 20L4 18.59l7.72-7.72 1.47 1.35L5.41 20z\"/>\n",
              "  </svg>\n",
              "      </button>\n",
              "      \n",
              "  <style>\n",
              "    .colab-df-container {\n",
              "      display:flex;\n",
              "      flex-wrap:wrap;\n",
              "      gap: 12px;\n",
              "    }\n",
              "\n",
              "    .colab-df-convert {\n",
              "      background-color: #E8F0FE;\n",
              "      border: none;\n",
              "      border-radius: 50%;\n",
              "      cursor: pointer;\n",
              "      display: none;\n",
              "      fill: #1967D2;\n",
              "      height: 32px;\n",
              "      padding: 0 0 0 0;\n",
              "      width: 32px;\n",
              "    }\n",
              "\n",
              "    .colab-df-convert:hover {\n",
              "      background-color: #E2EBFA;\n",
              "      box-shadow: 0px 1px 2px rgba(60, 64, 67, 0.3), 0px 1px 3px 1px rgba(60, 64, 67, 0.15);\n",
              "      fill: #174EA6;\n",
              "    }\n",
              "\n",
              "    [theme=dark] .colab-df-convert {\n",
              "      background-color: #3B4455;\n",
              "      fill: #D2E3FC;\n",
              "    }\n",
              "\n",
              "    [theme=dark] .colab-df-convert:hover {\n",
              "      background-color: #434B5C;\n",
              "      box-shadow: 0px 1px 3px 1px rgba(0, 0, 0, 0.15);\n",
              "      filter: drop-shadow(0px 1px 2px rgba(0, 0, 0, 0.3));\n",
              "      fill: #FFFFFF;\n",
              "    }\n",
              "  </style>\n",
              "\n",
              "      <script>\n",
              "        const buttonEl =\n",
              "          document.querySelector('#df-0db1a5e2-8af8-4cab-813f-460458e91472 button.colab-df-convert');\n",
              "        buttonEl.style.display =\n",
              "          google.colab.kernel.accessAllowed ? 'block' : 'none';\n",
              "\n",
              "        async function convertToInteractive(key) {\n",
              "          const element = document.querySelector('#df-0db1a5e2-8af8-4cab-813f-460458e91472');\n",
              "          const dataTable =\n",
              "            await google.colab.kernel.invokeFunction('convertToInteractive',\n",
              "                                                     [key], {});\n",
              "          if (!dataTable) return;\n",
              "\n",
              "          const docLinkHtml = 'Like what you see? Visit the ' +\n",
              "            '<a target=\"_blank\" href=https://colab.research.google.com/notebooks/data_table.ipynb>data table notebook</a>'\n",
              "            + ' to learn more about interactive tables.';\n",
              "          element.innerHTML = '';\n",
              "          dataTable['output_type'] = 'display_data';\n",
              "          await google.colab.output.renderOutput(dataTable, element);\n",
              "          const docLink = document.createElement('div');\n",
              "          docLink.innerHTML = docLinkHtml;\n",
              "          element.appendChild(docLink);\n",
              "        }\n",
              "      </script>\n",
              "    </div>\n",
              "  </div>\n",
              "  "
            ]
          },
          "metadata": {},
          "execution_count": 76
        }
      ]
    },
    {
      "cell_type": "markdown",
      "source": [
        "### **Normalisation**\n",
        "\n",
        "\n",
        "\n",
        "---\n",
        "\n",
        "\n",
        "\n",
        "Linear regression requires the data to have **normalised errors** but normalised outcome also helps."
      ],
      "metadata": {
        "id": "jqXVAjP_M8Lh"
      }
    },
    {
      "cell_type": "code",
      "source": [
        "# visually checking for normalisaition :\n",
        "boston_data.MEDV.hist()"
      ],
      "metadata": {
        "colab": {
          "base_uri": "https://localhost:8080/",
          "height": 448
        },
        "id": "4BFFdby9NV3T",
        "outputId": "9bc52103-85a0-4a94-855b-ecbcccdd5fae"
      },
      "execution_count": 77,
      "outputs": [
        {
          "output_type": "execute_result",
          "data": {
            "text/plain": [
              "<Axes: >"
            ]
          },
          "metadata": {},
          "execution_count": 77
        },
        {
          "output_type": "display_data",
          "data": {
            "text/plain": [
              "<Figure size 640x480 with 1 Axes>"
            ],
            "image/png": "[encoded data removed]"
          },
          "metadata": {}
        }
      ]
    },
    {
      "cell_type": "code",
      "source": [
        "# statistically checking for normalised data\n",
        "from scipy.stats.mstats import normaltest # D'Agostino K^2 Test\n",
        "# this produces \"pvalue\"\n",
        "# if pvalue>0.05 -> normalised\n",
        "normaltest(boston_data.MEDV.values)"
      ],
      "metadata": {
        "colab": {
          "base_uri": "https://localhost:8080/"
        },
        "id": "XiBJgOzXNfTz",
        "outputId": "3a12e767-416a-4ece-bcb9-bffa55690726"
      },
      "execution_count": 78,
      "outputs": [
        {
          "output_type": "execute_result",
          "data": {
            "text/plain": [
              "NormaltestResult(statistic=90.9746873700967, pvalue=1.7583188871696095e-20)"
            ]
          },
          "metadata": {},
          "execution_count": 78
        }
      ]
    },
    {
      "cell_type": "markdown",
      "source": [
        "For normalising the data, we perform the following 3 operations to check which performs the best & use that.\n"
      ],
      "metadata": {
        "id": "qohuiu7mOVGh"
      }
    },
    {
      "cell_type": "code",
      "source": [
        "# Testing Log\n",
        "\n",
        "# applying Log transformation to MEDV column :\n",
        "\n",
        "logMedv = np.log(boston_data.MEDV)\n",
        "logMedv.hist()"
      ],
      "metadata": {
        "colab": {
          "base_uri": "https://localhost:8080/",
          "height": 447
        },
        "id": "3r3CamlcOi84",
        "outputId": "0a097bff-8f5b-46d8-c91a-9022432a778b"
      },
      "execution_count": 79,
      "outputs": [
        {
          "output_type": "execute_result",
          "data": {
            "text/plain": [
              "<Axes: >"
            ]
          },
          "metadata": {},
          "execution_count": 79
        },
        {
          "output_type": "display_data",
          "data": {
            "text/plain": [
              "<Figure size 640x480 with 1 Axes>"
            ],
            "image/png": "[encoded data removed]"
          },
          "metadata": {}
        }
      ]
    },
    {
      "cell_type": "code",
      "source": [
        "# check if data is normalised\n",
        "normaltest(logMedv)"
      ],
      "metadata": {
        "colab": {
          "base_uri": "https://localhost:8080/"
        },
        "id": "hSaVBQYCO3RI",
        "outputId": "e8067a0c-ebf9-4a19-b73f-133e1cd4de41"
      },
      "execution_count": 80,
      "outputs": [
        {
          "output_type": "execute_result",
          "data": {
            "text/plain": [
              "NormaltestResult(statistic=17.21801696640698, pvalue=0.00018245472768345196)"
            ]
          },
          "metadata": {},
          "execution_count": 80
        }
      ]
    },
    {
      "cell_type": "code",
      "source": [
        "# Applying square root transformation\n",
        "\n",
        "sqMedv = np.sqrt(boston_data.MEDV)\n",
        "sqMedv.hist()"
      ],
      "metadata": {
        "colab": {
          "base_uri": "https://localhost:8080/",
          "height": 447
        },
        "id": "BC6Vm_syPGhx",
        "outputId": "66d249a0-c1e2-4b56-cb54-cd0a12ac5b43"
      },
      "execution_count": 81,
      "outputs": [
        {
          "output_type": "execute_result",
          "data": {
            "text/plain": [
              "<Axes: >"
            ]
          },
          "metadata": {},
          "execution_count": 81
        },
        {
          "output_type": "display_data",
          "data": {
            "text/plain": [
              "<Figure size 640x480 with 1 Axes>"
            ],
            "image/png": "[encoded data removed]"
          },
          "metadata": {}
        }
      ]
    },
    {
      "cell_type": "code",
      "source": [
        "normaltest(sqMedv)"
      ],
      "metadata": {
        "colab": {
          "base_uri": "https://localhost:8080/"
        },
        "id": "KCro_CFpPWY4",
        "outputId": "86920ca2-ab15-4249-c46c-12cbe11887b8"
      },
      "execution_count": 82,
      "outputs": [
        {
          "output_type": "execute_result",
          "data": {
            "text/plain": [
              "NormaltestResult(statistic=20.487090826863067, pvalue=3.558645701429252e-05)"
            ]
          },
          "metadata": {},
          "execution_count": 82
        }
      ]
    },
    {
      "cell_type": "code",
      "source": [
        "# applying BoxCox\n",
        "# it's parameterized which tries to gets the distribution as close to normal as possible\n",
        "from scipy.stats import boxcox"
      ],
      "metadata": {
        "id": "eoi_rRPsPfDp"
      },
      "execution_count": 83,
      "outputs": []
    },
    {
      "cell_type": "code",
      "source": [
        "bc_result = boxcox(boston_data.MEDV)\n",
        "bcMedv = bc_result[0]\n",
        "normaltest(bcMedv)"
      ],
      "metadata": {
        "colab": {
          "base_uri": "https://localhost:8080/"
        },
        "id": "UXmmPZsSPyNH",
        "outputId": "70d0cb17-30ad-402f-ba40-c016eff4f193"
      },
      "execution_count": 84,
      "outputs": [
        {
          "output_type": "execute_result",
          "data": {
            "text/plain": [
              "NormaltestResult(statistic=4.513528775533045, pvalue=0.1046886692817602)"
            ]
          },
          "metadata": {},
          "execution_count": 84
        }
      ]
    },
    {
      "cell_type": "markdown",
      "source": [
        "As the **pvalue > 0.05 significantly**, we have normalised y values"
      ],
      "metadata": {
        "id": "Yl57SBqGQGR_"
      }
    },
    {
      "cell_type": "markdown",
      "source": [
        "## **Regression**\n",
        "\n",
        "\n",
        "---\n",
        "\n",
        "\n"
      ],
      "metadata": {
        "id": "NJkmpykYQPGC"
      }
    },
    {
      "cell_type": "code",
      "source": [
        "# imp imports\n",
        "from sklearn.linear_model import LinearRegression\n",
        "from sklearn.metrics import r2_score\n",
        "from sklearn.model_selection import train_test_split\n",
        "from sklearn.preprocessing import PolynomialFeatures, StandardScaler"
      ],
      "metadata": {
        "id": "8wBJbkKbS4DC"
      },
      "execution_count": 85,
      "outputs": []
    },
    {
      "cell_type": "code",
      "source": [
        "# initialize the linear regression object\n",
        "lr = LinearRegression()"
      ],
      "metadata": {
        "id": "shCJHIFcTUA0"
      },
      "execution_count": 86,
      "outputs": []
    },
    {
      "cell_type": "code",
      "source": [
        "# reloading a cleaner version of boston housing \n",
        "# we already know which normalization techniques to apply (BoxCox)\n",
        "data_url = \"/content/sample_data/BostonHousing.csv\"\n",
        "boston_data = pd.read_csv(data_url)"
      ],
      "metadata": {
        "id": "tF3Advg8TcGQ"
      },
      "execution_count": 87,
      "outputs": []
    },
    {
      "cell_type": "code",
      "source": [
        "label = \"MEDV\"\n",
        "x = boston_data.drop(label, axis=1)\n",
        "y = boston_data[label]\n",
        "boston_data.shape"
      ],
      "metadata": {
        "colab": {
          "base_uri": "https://localhost:8080/"
        },
        "id": "1EKwBlXQTxGT",
        "outputId": "85ebc411-e0dd-4c2b-e51e-ef3ed2ba594d"
      },
      "execution_count": 88,
      "outputs": [
        {
          "output_type": "execute_result",
          "data": {
            "text/plain": [
              "(506, 14)"
            ]
          },
          "metadata": {},
          "execution_count": 88
        }
      ]
    },
    {
      "cell_type": "code",
      "source": [
        "# creating polynomial features\n",
        "pf = PolynomialFeatures(degree = 2, include_bias = False)\n",
        "# this creates a bias of its own\n",
        "\n",
        "xpf = pf.fit_transform(x)"
      ],
      "metadata": {
        "id": "k86xzrfGT-AY"
      },
      "execution_count": 89,
      "outputs": []
    },
    {
      "cell_type": "code",
      "source": [
        "xpf.shape"
      ],
      "metadata": {
        "colab": {
          "base_uri": "https://localhost:8080/"
        },
        "id": "R07gDFxmUOBY",
        "outputId": "17e5ee8f-6d8e-4f8a-8966-5f467b0d7191"
      },
      "execution_count": 90,
      "outputs": [
        {
          "output_type": "execute_result",
          "data": {
            "text/plain": [
              "(506, 104)"
            ]
          },
          "metadata": {},
          "execution_count": 90
        }
      ]
    },
    {
      "cell_type": "code",
      "source": [
        "x_train, x_test, y_train, y_test = train_test_split(xpf, y, test_size=0.3, \n",
        "                                                    random_state=72018)"
      ],
      "metadata": {
        "id": "Et3wdUKKUaHU"
      },
      "execution_count": 102,
      "outputs": []
    },
    {
      "cell_type": "code",
      "source": [
        "# standard scaling\n",
        "s = StandardScaler()\n",
        "x_train_s = s.fit_transform(x_train)"
      ],
      "metadata": {
        "id": "kLxwyd95VFnD"
      },
      "execution_count": 103,
      "outputs": []
    },
    {
      "cell_type": "code",
      "source": [
        "# working on y values now: normalising \n",
        "bc_result2 = boxcox(y_train)\n",
        "lam2 = bc_result2[1]\n",
        "y_train_bc = bc_result2[0]"
      ],
      "metadata": {
        "id": "GIcmCjp8WAwl"
      },
      "execution_count": 104,
      "outputs": []
    },
    {
      "cell_type": "code",
      "source": [
        "# finally fitting the lr model\n",
        "lr.fit(x_train_s, y_train_bc)\n"
      ],
      "metadata": {
        "colab": {
          "base_uri": "https://localhost:8080/",
          "height": 74
        },
        "id": "nU8M0WpbWNhV",
        "outputId": "51ba7de8-e868-4385-fbd4-254bcda7b376"
      },
      "execution_count": 105,
      "outputs": [
        {
          "output_type": "execute_result",
          "data": {
            "text/plain": [
              "LinearRegression()"
            ],
            "text/html": [
              "<style>#sk-container-id-3 {color: black;background-color: white;}#sk-container-id-3 pre{padding: 0;}#sk-container-id-3 div.sk-toggleable {background-color: white;}#sk-container-id-3 label.sk-toggleable__label {cursor: pointer;display: block;width: 100%;margin-bottom: 0;padding: 0.3em;box-sizing: border-box;text-align: center;}#sk-container-id-3 label.sk-toggleable__label-arrow:before {content: \"▸\";float: left;margin-right: 0.25em;color: #696969;}#sk-container-id-3 label.sk-toggleable__label-arrow:hover:before {color: black;}#sk-container-id-3 div.sk-estimator:hover label.sk-toggleable__label-arrow:before {color: black;}#sk-container-id-3 div.sk-toggleable__content {max-height: 0;max-width: 0;overflow: hidden;text-align: left;background-color: #f0f8ff;}#sk-container-id-3 div.sk-toggleable__content pre {margin: 0.2em;color: black;border-radius: 0.25em;background-color: #f0f8ff;}#sk-container-id-3 input.sk-toggleable__control:checked~div.sk-toggleable__content {max-height: 200px;max-width: 100%;overflow: auto;}#sk-container-id-3 input.sk-toggleable__control:checked~label.sk-toggleable__label-arrow:before {content: \"▾\";}#sk-container-id-3 div.sk-estimator input.sk-toggleable__control:checked~label.sk-toggleable__label {background-color: #d4ebff;}#sk-container-id-3 div.sk-label input.sk-toggleable__control:checked~label.sk-toggleable__label {background-color: #d4ebff;}#sk-container-id-3 input.sk-hidden--visually {border: 0;clip: rect(1px 1px 1px 1px);clip: rect(1px, 1px, 1px, 1px);height: 1px;margin: -1px;overflow: hidden;padding: 0;position: absolute;width: 1px;}#sk-container-id-3 div.sk-estimator {font-family: monospace;background-color: #f0f8ff;border: 1px dotted black;border-radius: 0.25em;box-sizing: border-box;margin-bottom: 0.5em;}#sk-container-id-3 div.sk-estimator:hover {background-color: #d4ebff;}#sk-container-id-3 div.sk-parallel-item::after {content: \"\";width: 100%;border-bottom: 1px solid gray;flex-grow: 1;}#sk-container-id-3 div.sk-label:hover label.sk-toggleable__label {background-color: #d4ebff;}#sk-container-id-3 div.sk-serial::before {content: \"\";position: absolute;border-left: 1px solid gray;box-sizing: border-box;top: 0;bottom: 0;left: 50%;z-index: 0;}#sk-container-id-3 div.sk-serial {display: flex;flex-direction: column;align-items: center;background-color: white;padding-right: 0.2em;padding-left: 0.2em;position: relative;}#sk-container-id-3 div.sk-item {position: relative;z-index: 1;}#sk-container-id-3 div.sk-parallel {display: flex;align-items: stretch;justify-content: center;background-color: white;position: relative;}#sk-container-id-3 div.sk-item::before, #sk-container-id-3 div.sk-parallel-item::before {content: \"\";position: absolute;border-left: 1px solid gray;box-sizing: border-box;top: 0;bottom: 0;left: 50%;z-index: -1;}#sk-container-id-3 div.sk-parallel-item {display: flex;flex-direction: column;z-index: 1;position: relative;background-color: white;}#sk-container-id-3 div.sk-parallel-item:first-child::after {align-self: flex-end;width: 50%;}#sk-container-id-3 div.sk-parallel-item:last-child::after {align-self: flex-start;width: 50%;}#sk-container-id-3 div.sk-parallel-item:only-child::after {width: 0;}#sk-container-id-3 div.sk-dashed-wrapped {border: 1px dashed gray;margin: 0 0.4em 0.5em 0.4em;box-sizing: border-box;padding-bottom: 0.4em;background-color: white;}#sk-container-id-3 div.sk-label label {font-family: monospace;font-weight: bold;display: inline-block;line-height: 1.2em;}#sk-container-id-3 div.sk-label-container {text-align: center;}#sk-container-id-3 div.sk-container {/* jupyter's `normalize.less` sets `[hidden] { display: none; }` but bootstrap.min.css set `[hidden] { display: none !important; }` so we also need the `!important` here to be able to override the default hidden behavior on the sphinx rendered scikit-learn.org. See: https://github.com/scikit-learn/scikit-learn/issues/21755 */display: inline-block !important;position: relative;}#sk-container-id-3 div.sk-text-repr-fallback {display: none;}</style><div id=\"sk-container-id-3\" class=\"sk-top-container\"><div class=\"sk-text-repr-fallback\"><pre>LinearRegression()</pre><b>In a Jupyter environment, please rerun this cell to show the HTML representation or trust the notebook. <br />On GitHub, the HTML representation is unable to render, please try loading this page with nbviewer.org.</b></div><div class=\"sk-container\" hidden><div class=\"sk-item\"><div class=\"sk-estimator sk-toggleable\"><input class=\"sk-toggleable__control sk-hidden--visually\" id=\"sk-estimator-id-3\" type=\"checkbox\" checked><label for=\"sk-estimator-id-3\" class=\"sk-toggleable__label sk-toggleable__label-arrow\">LinearRegression</label><div class=\"sk-toggleable__content\"><pre>LinearRegression()</pre></div></div></div></div></div>"
            ]
          },
          "metadata": {},
          "execution_count": 105
        }
      ]
    },
    {
      "cell_type": "code",
      "source": [
        "# testing the model\n",
        "x_test_s = s.transform(x_test) #scaling the test values\n",
        "y_preds = lr.predict(x_test_s)"
      ],
      "metadata": {
        "id": "YYF0C5s3Wf3S"
      },
      "execution_count": 106,
      "outputs": []
    },
    {
      "cell_type": "code",
      "source": [
        "y_preds"
      ],
      "metadata": {
        "colab": {
          "base_uri": "https://localhost:8080/"
        },
        "id": "PTLdy4eNXFAJ",
        "outputId": "fa2a393b-fc81-4008-d888-21393941cf4d"
      },
      "execution_count": 107,
      "outputs": [
        {
          "output_type": "execute_result",
          "data": {
            "text/plain": [
              "array([4.43920316, 4.16230299, 4.14903773, 5.72770375, 5.70362608,\n",
              "       6.59865445, 4.18842601, 4.77415222, 4.68282566, 4.85108878,\n",
              "       6.82748198, 3.86236699, 5.0643167 , 4.31536775, 6.91107238,\n",
              "       4.93538901, 4.64299542, 5.84297841, 5.24960436, 5.44823381,\n",
              "       3.98464025, 4.88299011, 4.19919967, 3.59736013, 5.2309719 ,\n",
              "       5.30478058, 5.85592444, 4.78820348, 4.78846728, 6.78622305,\n",
              "       3.36299121, 4.39751616, 4.29381841, 6.9642437 , 4.49873355,\n",
              "       5.51107039, 4.79092744, 5.61456675, 3.04824493, 5.35252088,\n",
              "       3.34764987, 3.97589975, 5.14213658, 4.37539217, 5.07041151,\n",
              "       6.31192606, 4.90476787, 5.25799412, 5.69133946, 4.21362253,\n",
              "       5.2252357 , 5.49371642, 4.38650851, 3.95353734, 4.16951912,\n",
              "       2.75465746, 4.06367514, 3.01030741, 4.5542641 , 4.8090537 ,\n",
              "       5.74517281, 3.26233918, 3.5862807 , 6.17670312, 4.23677257,\n",
              "       5.81985343, 3.41296646, 3.83284203, 4.98192021, 5.73417989,\n",
              "       5.20709227, 5.2224684 , 5.25901124, 5.43662547, 3.8263134 ,\n",
              "       3.54227896, 5.39503706, 4.46815491, 4.3752375 , 4.43397526,\n",
              "       4.26857806, 4.86974534, 5.83795891, 4.04151355, 3.51858119,\n",
              "       3.1923357 , 4.62263543, 6.02926386, 4.7009583 , 6.75024002,\n",
              "       4.39142328, 7.09519245, 3.63633109, 6.84266201, 5.94655295,\n",
              "       4.85824664, 3.31982381, 3.07049243, 4.97129982, 5.04765573,\n",
              "       1.99045119, 3.36771013, 3.93454864, 5.25195111, 5.72084992,\n",
              "       5.41600891, 4.6339003 , 4.06064081, 3.90652671, 5.47241751,\n",
              "       6.34006908, 4.62295396, 5.78807659, 4.98261655, 4.79651198,\n",
              "       5.74907439, 6.62391016, 3.79310717, 5.26601387, 5.05936907,\n",
              "       5.27005544, 4.05674121, 4.90100131, 4.05584843, 5.22049234,\n",
              "       5.40283716, 4.578356  , 4.22107366, 4.77645049, 4.8113669 ,\n",
              "       5.2060228 , 4.23331845, 4.98686063, 4.95300337, 4.87192351,\n",
              "       4.81043257, 3.21302163, 3.72381938, 5.6528538 , 4.83102518,\n",
              "       3.61794231, 4.97683061, 4.81408485, 4.45751093, 5.63842481,\n",
              "       6.18962525, 2.45986308, 4.31803429, 4.33344344, 4.90983086,\n",
              "       5.18275029, 3.47798262])"
            ]
          },
          "metadata": {},
          "execution_count": 107
        }
      ]
    },
    {
      "cell_type": "markdown",
      "source": [
        "## **Inverse Transformations**\n"
      ],
      "metadata": {
        "id": "rP3xx8dhXUKC"
      }
    },
    {
      "cell_type": "code",
      "source": [
        "# to revert to original values to infer from the predictions \n",
        "# we apply inverse transformations\n",
        "\n",
        "# as we applied BoxCox to y values, we will apply inverse BoxCox.\n",
        "\n",
        "from scipy.special import inv_boxcox"
      ],
      "metadata": {
        "id": "wsRVcXdHYJ_W"
      },
      "execution_count": 108,
      "outputs": []
    },
    {
      "cell_type": "code",
      "source": [
        "# for this we need the lam from before\n",
        "# lam is the lambda value it used for BoxCox, which can be used to revert back too.\n",
        "\n",
        "y_pred_tran = inv_boxcox(y_preds,lam2)\n",
        "y_pred_tran"
      ],
      "metadata": {
        "colab": {
          "base_uri": "https://localhost:8080/"
        },
        "id": "NDgy9OyTYaZv",
        "outputId": "9f14a15f-0815-4418-c6e9-e48bb0286c21"
      },
      "execution_count": 111,
      "outputs": [
        {
          "output_type": "execute_result",
          "data": {
            "text/plain": [
              "array([18.18764633, 16.02118109, 15.92233954, 31.15151111, 30.86133663,\n",
              "       43.04030376, 16.21712699, 21.08310581, 20.26274972, 21.79266177,\n",
              "       46.64232124, 13.89242421, 23.84960218, 17.19412319, 48.01100168,\n",
              "       22.58983096, 19.91231719, 32.56822865, 25.74822383, 27.90273951,\n",
              "       14.73374523, 22.09189088, 16.2984427 , 12.18918737, 25.55251058,\n",
              "       26.33416213, 32.7301985 , 21.21142645, 21.21384095, 45.97729223,\n",
              "       10.81375159, 17.84867146, 17.02534292, 48.89661408, 18.67977065,\n",
              "       28.6107062 , 21.23636788, 29.80503362,  9.14820041, 26.84888235,\n",
              "       10.7278375 , 14.67241046, 24.63418765, 17.67064405, 23.91038755,\n",
              "       38.81680567, 22.2978655 , 25.83670271, 30.71402051, 16.40776344,\n",
              "       25.49247592, 28.41389642, 17.75993338, 14.51632917, 16.07513597,\n",
              "        7.77007751, 15.29682794,  8.9608636 , 19.1474636 , 21.40287941,\n",
              "       31.36327552, 10.25907883, 12.12145655, 36.93303167, 16.58434319,\n",
              "       32.28035519, 11.09708157, 13.69461169, 23.03878612, 31.22989526,\n",
              "       25.30326099, 25.46355015, 25.84744421, 27.77335411, 13.65114812,\n",
              "       11.85515532, 27.31338207, 18.42579445, 17.66940399, 18.14488228,\n",
              "       16.8291844 , 21.967298  , 32.50558548, 15.13739194, 11.71350534,\n",
              "        9.88566781, 19.73489387, 34.95556257, 20.42375507, 45.40293677,\n",
              "       17.79951417, 51.12811002, 12.4296055 , 46.88874463, 33.88046726,\n",
              "       21.85954407, 10.57327087,  9.25937056, 22.93575102, 23.68400915,\n",
              "        4.89053075, 10.84027834, 14.38474301, 25.77295062, 31.068711  ,\n",
              "       27.54463693, 19.83291719, 15.27492664, 14.19214135, 28.17369084,\n",
              "       39.21744689, 19.73766076, 31.88779255, 23.04555338, 21.28756817,\n",
              "       31.41071358, 43.42760649, 13.43162743, 25.92148515, 23.80034046,\n",
              "       25.96428788, 15.24681335, 22.26214214, 15.24038229, 25.44290951,\n",
              "       27.39922803, 19.3529884 , 16.46444836, 21.10405577, 21.42419675,\n",
              "       25.2921395 , 16.55790944, 23.0868303 , 22.75902969, 21.98775286,\n",
              "       21.41558456,  9.99496691, 12.98183214, 30.25587718, 21.60598016,\n",
              "       12.31573801, 22.98936691, 21.44926387, 18.33797927, 30.08539455,\n",
              "       37.11012189,  6.54434308, 17.21509224, 17.33662938, 22.34595007,\n",
              "       25.05100414, 11.47369002])"
            ]
          },
          "metadata": {},
          "execution_count": 111
        }
      ]
    },
    {
      "cell_type": "code",
      "source": [
        "# for calculating r2 score :\n",
        "r2_score(y_pred_tran, y_test)\n",
        "# we pass our predictions & actual outcomes"
      ],
      "metadata": {
        "colab": {
          "base_uri": "https://localhost:8080/"
        },
        "id": "A41HBzxyYqo6",
        "outputId": "b0289e3b-da2d-4945-880a-3e752514e27f"
      },
      "execution_count": 112,
      "outputs": [
        {
          "output_type": "execute_result",
          "data": {
            "text/plain": [
              "0.8794001851338565"
            ]
          },
          "metadata": {},
          "execution_count": 112
        }
      ]
    },
    {
      "cell_type": "code",
      "source": [],
      "metadata": {
        "id": "obK4EC6sZH7i"
      },
      "execution_count": 110,
      "outputs": []
    }
  ]
}